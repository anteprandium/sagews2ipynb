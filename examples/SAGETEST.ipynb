{
 "nbformat": 4, 
 "cells": [
  {
   "execution_count": 1, 
   "cell_type": "code", 
   "source": [
    "\"This sage worksheet contains test for the sagews2ipynb converter\""
   ], 
   "outputs": [
    {
     "output_type": "execute_result", 
     "data": {
      "text/plain": [
       "'This sage worksheet contains test for the sagews2ipynb converter'"
      ]
     }, 
     "execution_count": 1, 
     "metadata": {}
    }
   ], 
   "metadata": {
    "collapsed": false
   }
  }, 
  {
   "source": "A markdown cell.\n", 
   "cell_type": "markdown", 
   "metadata": {}
  }, 
  {
   "execution_count": 2, 
   "cell_type": "code", 
   "source": [
    "# A plot\n", 
    "plot(sin,(x,0,10))"
   ], 
   "outputs": [
    {
     "output_type": "execute_result", 
     "metadata": {}, 
     "data": {
      "text/plain": [
       "<IPython.core.display.SVG object>"
      ], 
      "image/svg+xml": [
       "<svg height=\"462\" width=\"467\" xmlns=\"http://www.w3.org/2000/svg\">\n", 
       "  <rect height=\"250\" rx=\"20\" style=\"fill:#ff0000; stroke:#000000;stroke-width:2px;\" width=\"250\" x=\"80\" y=\"60\"/>\n", 
       "  \n", 
       "  <rect height=\"250\" rx=\"40\" style=\"fill:#0000ff; stroke:#000000; stroke-width:2px;       fill-opacity:0.7;\" width=\"250\" x=\"140\" y=\"120\"/>\n", 
       "</svg>"
      ]
     }, 
     "execution_count": 2
    }
   ], 
   "metadata": {
    "collapsed": false
   }
  }, 
  {
   "execution_count": 3, 
   "cell_type": "code", 
   "source": [], 
   "outputs": [], 
   "metadata": {
    "collapsed": false
   }
  }
 ], 
 "metadata": {
  "kernelspec": {
   "display_name": "Sage 6.6", 
   "name": "sage_6_6", 
   "language": "python"
  }
 }, 
 "nbformat_minor": 0
}