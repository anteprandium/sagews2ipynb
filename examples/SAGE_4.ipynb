{
    "nbformat": 4, 
    "cells": [
        {
            "execution_count": null, 
            "cell_type": "code", 
            "source": [
                ""
            ], 
            "outputs": [], 
            "metadata": {}
        }, 
        {
            "source": "# Ejercicios de pruebas anteriores.\n", 
            "cell_type": "markdown", 
            "metadata": {}
        }, 
        {
            "source": "En todos los ejercicios,  `F` ser\u00e1 $\\mathbb{F}_{27}=\\mathbb{F}_{3}[\\alpha]=$ el cuerpo de $27$ elementos, dado como una  extensi\u00f3n algebraica de $\\mathbb{F}_{3}$. \n", 
            "cell_type": "markdown", 
            "metadata": {}
        }, 
        {
            "source": "**Ejercicio 0**\nResponda (con c\u00f3digo)  a las siguientes cuestiones:\n1. Calcule $\\varphi(2887465412)$.\n2. Calcule el cociente y el resto de la divisi\u00f3n eucl\u00eddea de $ 5416816541$ entre $78214$.\n3. D\u00e9 el m\u00e1ximo com\u00fan divisor y una identidad de B\u00e9zout de los enteros $541968416909$ y $2^{34}$.\n\n", 
            "cell_type": "markdown", 
            "metadata": {}
        }, 
        {
            "execution_count": null, 
            "cell_type": "code", 
            "source": [
                "# 0.1\neuler_phi(2887465412)"
            ], 
            "outputs": [
                {
                    "output_type": "stream", 
                    "name": "stdout", 
                    "text": [
                        "1332676320"
                    ]
                }
            ], 
            "metadata": {}
        }, 
        {
            "execution_count": null, 
            "cell_type": "code", 
            "source": [
                "# 0.2 \nZZ(5416816541).quo_rem(78214)"
            ], 
            "outputs": [
                {
                    "output_type": "stream", 
                    "name": "stdout", 
                    "text": [
                        "(69256, 27757)"
                    ]
                }
            ], 
            "metadata": {}
        }, 
        {
            "execution_count": null, 
            "cell_type": "code", 
            "source": [
                "# 0.3 \na=541968416909\nb=2^34\nd,alpha,beta=xgcd(a,b)\nd==alpha*a+beta*b"
            ], 
            "outputs": [
                {
                    "output_type": "stream", 
                    "name": "stdout", 
                    "text": [
                        "True"
                    ]
                }
            ], 
            "metadata": {}
        }, 
        {
            "source": "**Ejercicio 1**\n\n   1. Defina $\\mathbb{F}_{27}$ en SAGE, y d\u00e9 el polinomio m\u00ednimo de $\\alpha$.\n   2. Sabiendo que `F.list()` es una lista de los elementos del cuerpo finito (\u00a1incluyendo el cero!), calcule una lista con las parejas de cada elemento no nulo y su inverso. \n   \n", 
            "cell_type": "markdown", 
            "metadata": {}
        }, 
        {
            "execution_count": null, 
            "cell_type": "code", 
            "source": [
                "# 1.1\nF27.<a>=GF(27)"
            ], 
            "outputs": [], 
            "metadata": {}
        }, 
        {
            "execution_count": null, 
            "cell_type": "code", 
            "source": [
                "# 1.2 +1.2\n[(a,a^(-1)) for a in F27.list() if a!=0]"
            ], 
            "outputs": [
                {
                    "output_type": "stream", 
                    "name": "stdout", 
                    "text": [
                        "[(a, 2*a^2 + 1), (a^2, 2*a^2 + 2*a + 1), (a + 2, 2*a^2 + 2*a), (a^2 + 2*a, 2*a + 2),\n(2*a^2 + a + 2, a^2 + 1), (a^2 + a + 1, 2*a^2 + a + 1), (a^2 + 2*a + 2, 2*a^2 + 2*a + 2),\n(2*a^2 + 2, a^2 + 2*a + 1), (a + 1, 2*a^2 + a), (a^2 + a, 2*a + 1), (a^2 + a + 2, 2*a^2),\n(a^2 + 2, 2*a), (2, 2), (2*a, a^2 + 2), (2*a^2, a^2 + a + 2), (2*a + 1, a^2 + a), (2*a^2 +\na, a + 1), (a^2 + 2*a + 1, 2*a^2 + 2), (2*a^2 + 2*a + 2, a^2 + 2*a + 2), (2*a^2 + a + 1,\na^2 + a + 1), (a^2 + 1, 2*a^2 + a + 2), (2*a + 2, a^2 + 2*a), (2*a^2 + 2*a, a + 2), (2*a^2\n+ 2*a + 1, a^2), (2*a^2 + 1, a), (1, 1)]"
                    ]
                }
            ], 
            "metadata": {}
        }, 
        {
            "source": "**Ejercicio 2**\n\nEn el anillo de polinomios con coeficientes en `F`,\n   1. Factorice el polinomio $x^{11}-x$. \n   2. Calcule la identidad de B\u00e9zout para $f(x)=x^4 + x^3 + x^2 + x + 1$ y $g(x)=x^{2}+x+9\\alpha$.\n", 
            "cell_type": "markdown", 
            "metadata": {}
        }, 
        {
            "execution_count": null, 
            "cell_type": "code", 
            "source": [
                "# 2.1\nR.<x>=PolynomialRing(F27)\nf=x^11-x\nf.factor()"
            ], 
            "outputs": [
                {
                    "output_type": "stream", 
                    "name": "stdout", 
                    "text": [
                        "x * (x + 1) * (x + 2) * (x^4 + x^3 + x^2 + x + 1) * (x^4 + 2*x^3 + x^2 + 2*x + 1)"
                    ]
                }
            ], 
            "metadata": {}
        }, 
        {
            "execution_count": null, 
            "cell_type": "code", 
            "source": [
                "# 2.2\nf=x^4+x^3+x^2+x+1\ng=x^2+x+9*a\nxgcd(f,g)"
            ], 
            "outputs": [
                {
                    "output_type": "stream", 
                    "name": "stdout", 
                    "text": [
                        "(1, 1, 2*x^2 + 2)"
                    ]
                }
            ], 
            "metadata": {}
        }, 
        {
            "execution_count": null, 
            "cell_type": "code", 
            "source": [
                ""
            ], 
            "outputs": [], 
            "metadata": {}
        }, 
        {
            "source": "**Ejercicio 3 **\n\nCalcule, en $\\mathbb{F}_{27}$ un polinomio $h(x)$ tal que\n\\[\n\\begin{cases}\nh(x)\\equiv x-\\alpha & \\pmod{f(x)}\\\\\nh(x)\\equiv x^{2}-\\alpha & \\pmod{g(x)}\n\\end{cases}\n\\]  \n(Los polinomios $f$ y $g$ son los del ejercicio anterior.)\n", 
            "cell_type": "markdown", 
            "metadata": {}
        }, 
        {
            "execution_count": null, 
            "cell_type": "code", 
            "source": [
                "# 3\ncrt([x-a, x ^2-a],[f,g])"
            ], 
            "outputs": [
                {
                    "output_type": "stream", 
                    "name": "stdout", 
                    "text": [
                        "x^5 + x^4 + x^3 + x^2 + 2*x + 2"
                    ]
                }
            ], 
            "metadata": {}
        }, 
        {
            "execution_count": null, 
            "cell_type": "code", 
            "source": [
                ""
            ], 
            "outputs": [], 
            "metadata": {}
        }, 
        {
            "source": "**Ejercicio 4**\nDefina una funci\u00f3n `fi(n)` que calcule $\\phi(n)$ por el procedimiento de contar los n\u00fameros menores que $n$ coprimos con $n$. Calcule $\\varphi(10)$.\n", 
            "cell_type": "markdown", 
            "metadata": {}
        }, 
        {
            "execution_count": null, 
            "cell_type": "code", 
            "source": [
                "# 4\ndef fi(n):\n    return len([1 for i in [1..n] if gcd(i,n)==1])\nfi(10)"
            ], 
            "outputs": [
                {
                    "output_type": "stream", 
                    "name": "stdout", 
                    "text": [
                        "4"
                    ]
                }
            ], 
            "metadata": {}
        }, 
        {
            "execution_count": null, 
            "cell_type": "code", 
            "source": [
                ""
            ], 
            "outputs": [], 
            "metadata": {}
        }, 
        {
            "source": "**Ejercicio 5**\n\n\n1. Factorice el polinomio $X^7 \u2212X^6 \u221217X^5 +X^4 \u221216X^2 +336^X \u2212144$ sobre los cuerpos $\\mathbb{Q}$, $\\mathbb{F}_3$, $\\mathbb{F}_{27}$.\n\n2. Escriba una funci\u00f3n `factorizar_sobre(f,p,r)`, que dado un polinomio `f`, un primo `p` y un exponente `r`, devuelva la factorizaci\u00f3n de `f` sobre $\\mathbb{F}_{p^r}$. Ser\u00e1 necesario definir el anillo correspondiente dentro de la funci\u00f3n.\n", 
            "cell_type": "markdown", 
            "metadata": {}
        }, 
        {
            "execution_count": null, 
            "cell_type": "code", 
            "source": [
                "# 5\nR.<X>=PolynomialRing(QQ)\nf=X^7-X^6-17*X^5+X^4-16*X^2+336*X-144\nf.factor()"
            ], 
            "outputs": [
                {
                    "output_type": "stream", 
                    "name": "stdout", 
                    "text": [
                        "(X - 2) * (X + 3)^2 * (X^2 - 5*X + 2) * (X^2 + 4)"
                    ]
                }
            ], 
            "metadata": {}
        }, 
        {
            "execution_count": null, 
            "cell_type": "code", 
            "source": [
                "R.<X>=PolynomialRing(GF(3))\nf=X^7-X^6-17*X^5+X^4-16*X^2+336*X-144\nf.factor()"
            ], 
            "outputs": [
                {
                    "output_type": "stream", 
                    "name": "stdout", 
                    "text": [
                        "(X + 1) * X^2 * (X^2 + 1) * (X^2 + X + 2)"
                    ]
                }
            ], 
            "metadata": {}
        }, 
        {
            "execution_count": null, 
            "cell_type": "code", 
            "source": [
                "R.<X>=PolynomialRing(F27)\nf=X^7-X^6-17*X^5+X^4-16*X^2+336*X-144\nf.factor()"
            ], 
            "outputs": [
                {
                    "output_type": "stream", 
                    "name": "stdout", 
                    "text": [
                        "(X + 1) * X^2 * (X^2 + 1) * (X^2 + X + 2)"
                    ]
                }
            ], 
            "metadata": {}
        }, 
        {
            "source": "** Ejercicio 6**\n\nCrear un procedimiento, llamado `mcd`, que reciba un entero positivo $n$, y devuelva una lista de sublistas que contengan, por cada entero entre $1$ y $n$:\n\n1. El propio n\u00famero y la cadena `\"coprimo\"`, si es primo con $n$.\n\n2. El propio n\u00famero y el m\u00e1ximo com\u00fan divisor de n con \u00e9l, en otro caso. \n\nPor ejemplo:\n\n    mcd(6)\u2212\u2192[[1,\u2019coprimo\u2019],[2,2],[3,3],[4,2],[5,\u2019coprimo\u2019],[6,6]]\n", 
            "cell_type": "markdown", 
            "metadata": {}
        }, 
        {
            "execution_count": null, 
            "cell_type": "code", 
            "source": [
                "def mcd(n):\n    return [ [i, 'coprimo' if gcd(i,n)==1 else gcd(i,n)] for i in [1..n] ]"
            ], 
            "outputs": [], 
            "metadata": {}
        }, 
        {
            "execution_count": null, 
            "cell_type": "code", 
            "source": [
                "mcd(6)"
            ], 
            "outputs": [
                {
                    "output_type": "stream", 
                    "name": "stdout", 
                    "text": [
                        "[[1, 'coprimo'], [2, 2], [3, 3], [4, 2], [5, 'coprimo'], [6, 6]]"
                    ]
                }
            ], 
            "metadata": {}
        }, 
        {
            "execution_count": null, 
            "cell_type": "code", 
            "source": [
                ""
            ], 
            "outputs": [], 
            "metadata": {}
        }, 
        {
            "execution_count": null, 
            "cell_type": "code", 
            "source": [
                ""
            ], 
            "outputs": [], 
            "metadata": {}
        }
    ], 
    "metadata": {
        "date": "", 
        "title": "", 
        "author": "", 
        "filename": "SAGE_4.sagews"
    }, 
    "nbformat_minor": 0
}