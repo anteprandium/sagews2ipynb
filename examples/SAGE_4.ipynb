{
 "nbformat": 4, 
 "cells": [
  {
   "execution_count": 1, 
   "cell_type": "code", 
   "source": [], 
   "outputs": [], 
   "metadata": {
    "collapsed": false
   }
  }, 
  {
   "source": "# Ejercicios de pruebas anteriores.\n", 
   "cell_type": "markdown", 
   "metadata": {}
  }, 
  {
   "source": "En todos los ejercicios,  `F` ser\u00e1 $\\mathbb{F}_{27}=\\mathbb{F}_{3}[\\alpha]=$ el cuerpo de $27$ elementos, dado como una  extensi\u00f3n algebraica de $\\mathbb{F}_{3}$. \n", 
   "cell_type": "markdown", 
   "metadata": {}
  }, 
  {
   "source": "**Ejercicio 0**\nResponda (con c\u00f3digo)  a las siguientes cuestiones:\n1. Calcule $\\varphi(2887465412)$.\n2. Calcule el cociente y el resto de la divisi\u00f3n eucl\u00eddea de $ 5416816541$ entre $78214$.\n3. D\u00e9 el m\u00e1ximo com\u00fan divisor y una identidad de B\u00e9zout de los enteros $541968416909$ y $2^{34}$.\n\n", 
   "cell_type": "markdown", 
   "metadata": {}
  }, 
  {
   "execution_count": 2, 
   "cell_type": "code", 
   "source": [
    "# 0.1\n", 
    "euler_phi(2887465412)"
   ], 
   "outputs": [
    {
     "output_type": "execute_result", 
     "data": {
      "text/plain": [
       "1332676320"
      ]
     }, 
     "execution_count": 2, 
     "metadata": {}
    }
   ], 
   "metadata": {
    "collapsed": false
   }
  }, 
  {
   "execution_count": 3, 
   "cell_type": "code", 
   "source": [
    "# 0.2 \n", 
    "ZZ(5416816541).quo_rem(78214)"
   ], 
   "outputs": [
    {
     "output_type": "execute_result", 
     "data": {
      "text/plain": [
       "(69256, 27757)"
      ]
     }, 
     "execution_count": 3, 
     "metadata": {}
    }
   ], 
   "metadata": {
    "collapsed": false
   }
  }, 
  {
   "execution_count": 4, 
   "cell_type": "code", 
   "source": [
    "# 0.3 \n", 
    "a=541968416909\n", 
    "b=2^34\n", 
    "d,alpha,beta=xgcd(a,b)\n", 
    "d==alpha*a+beta*b"
   ], 
   "outputs": [
    {
     "output_type": "execute_result", 
     "data": {
      "text/plain": [
       "True"
      ]
     }, 
     "execution_count": 4, 
     "metadata": {}
    }
   ], 
   "metadata": {
    "collapsed": false
   }
  }, 
  {
   "source": "**Ejercicio 1**\n\n   1. Defina $\\mathbb{F}_{27}$ en SAGE, y d\u00e9 el polinomio m\u00ednimo de $\\alpha$.\n   2. Sabiendo que `F.list()` es una lista de los elementos del cuerpo finito (\u00a1incluyendo el cero!), calcule una lista con las parejas de cada elemento no nulo y su inverso. \n   \n", 
   "cell_type": "markdown", 
   "metadata": {}
  }, 
  {
   "execution_count": 5, 
   "cell_type": "code", 
   "source": [
    "# 1.1\n", 
    "F27.<a>=GF(27)"
   ], 
   "outputs": [], 
   "metadata": {
    "collapsed": false
   }
  }, 
  {
   "execution_count": 6, 
   "cell_type": "code", 
   "source": [
    "# 1.2 +1.2\n", 
    "[(a,a^(-1)) for a in F27.list() if a!=0]"
   ], 
   "outputs": [
    {
     "output_type": "execute_result", 
     "data": {
      "text/plain": [
       "[(a, 2*a^2 + 1), (a^2, 2*a^2 + 2*a + 1), (a + 2, 2*a^2 + 2*a), (a^2 + 2*a, 2*a + 2),\n", 
       "(2*a^2 + a + 2, a^2 + 1), (a^2 + a + 1, 2*a^2 + a + 1), (a^2 + 2*a + 2, 2*a^2 + 2*a + 2),\n", 
       "(2*a^2 + 2, a^2 + 2*a + 1), (a + 1, 2*a^2 + a), (a^2 + a, 2*a + 1), (a^2 + a + 2, 2*a^2),\n", 
       "(a^2 + 2, 2*a), (2, 2), (2*a, a^2 + 2), (2*a^2, a^2 + a + 2), (2*a + 1, a^2 + a), (2*a^2 +\n", 
       "a, a + 1), (a^2 + 2*a + 1, 2*a^2 + 2), (2*a^2 + 2*a + 2, a^2 + 2*a + 2), (2*a^2 + a + 1,\n", 
       "a^2 + a + 1), (a^2 + 1, 2*a^2 + a + 2), (2*a + 2, a^2 + 2*a), (2*a^2 + 2*a, a + 2), (2*a^2\n", 
       "+ 2*a + 1, a^2), (2*a^2 + 1, a), (1, 1)]"
      ]
     }, 
     "execution_count": 6, 
     "metadata": {}
    }
   ], 
   "metadata": {
    "collapsed": false
   }
  }, 
  {
   "source": "**Ejercicio 2**\n\nEn el anillo de polinomios con coeficientes en `F`,\n   1. Factorice el polinomio $x^{11}-x$. \n   2. Calcule la identidad de B\u00e9zout para $f(x)=x^4 + x^3 + x^2 + x + 1$ y $g(x)=x^{2}+x+9\\alpha$.\n", 
   "cell_type": "markdown", 
   "metadata": {}
  }, 
  {
   "execution_count": 7, 
   "cell_type": "code", 
   "source": [
    "# 2.1\n", 
    "R.<x>=PolynomialRing(F27)\n", 
    "f=x^11-x\n", 
    "f.factor()"
   ], 
   "outputs": [
    {
     "output_type": "execute_result", 
     "data": {
      "text/plain": [
       "x * (x + 1) * (x + 2) * (x^4 + x^3 + x^2 + x + 1) * (x^4 + 2*x^3 + x^2 + 2*x + 1)"
      ]
     }, 
     "execution_count": 7, 
     "metadata": {}
    }
   ], 
   "metadata": {
    "collapsed": false
   }
  }, 
  {
   "execution_count": 8, 
   "cell_type": "code", 
   "source": [
    "# 2.2\n", 
    "f=x^4+x^3+x^2+x+1\n", 
    "g=x^2+x+9*a\n", 
    "xgcd(f,g)"
   ], 
   "outputs": [
    {
     "output_type": "execute_result", 
     "data": {
      "text/plain": [
       "(1, 1, 2*x^2 + 2)"
      ]
     }, 
     "execution_count": 8, 
     "metadata": {}
    }
   ], 
   "metadata": {
    "collapsed": false
   }
  }, 
  {
   "execution_count": 9, 
   "cell_type": "code", 
   "source": [], 
   "outputs": [], 
   "metadata": {
    "collapsed": false
   }
  }, 
  {
   "source": "**Ejercicio 3 **\n\nCalcule, en $\\mathbb{F}_{27}$ un polinomio $h(x)$ tal que\n\\[\n\\begin{cases}\nh(x)\\equiv x-\\alpha & \\pmod{f(x)}\\\\\nh(x)\\equiv x^{2}-\\alpha & \\pmod{g(x)}\n\\end{cases}\n\\]  \n(Los polinomios $f$ y $g$ son los del ejercicio anterior.)\n", 
   "cell_type": "markdown", 
   "metadata": {}
  }, 
  {
   "execution_count": 10, 
   "cell_type": "code", 
   "source": [
    "# 3\n", 
    "crt([x-a, x ^2-a],[f,g])"
   ], 
   "outputs": [
    {
     "output_type": "execute_result", 
     "data": {
      "text/plain": [
       "x^5 + x^4 + x^3 + x^2 + 2*x + 2"
      ]
     }, 
     "execution_count": 10, 
     "metadata": {}
    }
   ], 
   "metadata": {
    "collapsed": false
   }
  }, 
  {
   "execution_count": 11, 
   "cell_type": "code", 
   "source": [], 
   "outputs": [], 
   "metadata": {
    "collapsed": false
   }
  }, 
  {
   "source": "**Ejercicio 4**\nDefina una funci\u00f3n `fi(n)` que calcule $\\phi(n)$ por el procedimiento de contar los n\u00fameros menores que $n$ coprimos con $n$. Calcule $\\varphi(10)$.\n", 
   "cell_type": "markdown", 
   "metadata": {}
  }, 
  {
   "execution_count": 12, 
   "cell_type": "code", 
   "source": [
    "# 4\n", 
    "def fi(n):\n", 
    "    return len([1 for i in [1..n] if gcd(i,n)==1])\n", 
    "fi(10)"
   ], 
   "outputs": [
    {
     "output_type": "execute_result", 
     "data": {
      "text/plain": [
       "4"
      ]
     }, 
     "execution_count": 12, 
     "metadata": {}
    }
   ], 
   "metadata": {
    "collapsed": false
   }
  }, 
  {
   "execution_count": 13, 
   "cell_type": "code", 
   "source": [], 
   "outputs": [], 
   "metadata": {
    "collapsed": false
   }
  }, 
  {
   "source": "**Ejercicio 5**\n\n\n1. Factorice el polinomio $X^7 \u2212X^6 \u221217X^5 +X^4 \u221216X^2 +336^X \u2212144$ sobre los cuerpos $\\mathbb{Q}$, $\\mathbb{F}_3$, $\\mathbb{F}_{27}$.\n\n2. Escriba una funci\u00f3n `factorizar_sobre(f,p,r)`, que dado un polinomio `f`, un primo `p` y un exponente `r`, devuelva la factorizaci\u00f3n de `f` sobre $\\mathbb{F}_{p^r}$. Ser\u00e1 necesario definir el anillo correspondiente dentro de la funci\u00f3n.\n", 
   "cell_type": "markdown", 
   "metadata": {}
  }, 
  {
   "execution_count": 14, 
   "cell_type": "code", 
   "source": [
    "# 5\n", 
    "R.<X>=PolynomialRing(QQ)\n", 
    "f=X^7-X^6-17*X^5+X^4-16*X^2+336*X-144\n", 
    "f.factor()"
   ], 
   "outputs": [
    {
     "output_type": "execute_result", 
     "data": {
      "text/plain": [
       "(X - 2) * (X + 3)^2 * (X^2 - 5*X + 2) * (X^2 + 4)"
      ]
     }, 
     "execution_count": 14, 
     "metadata": {}
    }
   ], 
   "metadata": {
    "collapsed": false
   }
  }, 
  {
   "execution_count": 15, 
   "cell_type": "code", 
   "source": [
    "R.<X>=PolynomialRing(GF(3))\n", 
    "f=X^7-X^6-17*X^5+X^4-16*X^2+336*X-144\n", 
    "f.factor()"
   ], 
   "outputs": [
    {
     "output_type": "execute_result", 
     "data": {
      "text/plain": [
       "(X + 1) * X^2 * (X^2 + 1) * (X^2 + X + 2)"
      ]
     }, 
     "execution_count": 15, 
     "metadata": {}
    }
   ], 
   "metadata": {
    "collapsed": false
   }
  }, 
  {
   "execution_count": 16, 
   "cell_type": "code", 
   "source": [
    "R.<X>=PolynomialRing(F27)\n", 
    "f=X^7-X^6-17*X^5+X^4-16*X^2+336*X-144\n", 
    "f.factor()"
   ], 
   "outputs": [
    {
     "output_type": "execute_result", 
     "data": {
      "text/plain": [
       "(X + 1) * X^2 * (X^2 + 1) * (X^2 + X + 2)"
      ]
     }, 
     "execution_count": 16, 
     "metadata": {}
    }
   ], 
   "metadata": {
    "collapsed": false
   }
  }, 
  {
   "source": "** Ejercicio 6**\n\nCrear un procedimiento, llamado `mcd`, que reciba un entero positivo $n$, y devuelva una lista de sublistas que contengan, por cada entero entre $1$ y $n$:\n\n1. El propio n\u00famero y la cadena `\"coprimo\"`, si es primo con $n$.\n\n2. El propio n\u00famero y el m\u00e1ximo com\u00fan divisor de n con \u00e9l, en otro caso. \n\nPor ejemplo:\n\n    mcd(6)\u2212\u2192[[1,\u2019coprimo\u2019],[2,2],[3,3],[4,2],[5,\u2019coprimo\u2019],[6,6]]\n", 
   "cell_type": "markdown", 
   "metadata": {}
  }, 
  {
   "execution_count": 17, 
   "cell_type": "code", 
   "source": [
    "def mcd(n):\n", 
    "    return [ [i, 'coprimo' if gcd(i,n)==1 else gcd(i,n)] for i in [1..n] ]"
   ], 
   "outputs": [], 
   "metadata": {
    "collapsed": false
   }
  }, 
  {
   "execution_count": 18, 
   "cell_type": "code", 
   "source": [
    "mcd(6)"
   ], 
   "outputs": [
    {
     "output_type": "execute_result", 
     "data": {
      "text/plain": [
       "[[1, 'coprimo'], [2, 2], [3, 3], [4, 2], [5, 'coprimo'], [6, 6]]"
      ]
     }, 
     "execution_count": 18, 
     "metadata": {}
    }
   ], 
   "metadata": {
    "collapsed": false
   }
  }, 
  {
   "execution_count": 19, 
   "cell_type": "code", 
   "source": [], 
   "outputs": [], 
   "metadata": {
    "collapsed": false
   }
  }, 
  {
   "execution_count": 20, 
   "cell_type": "code", 
   "source": [], 
   "outputs": [], 
   "metadata": {
    "collapsed": false
   }
  }
 ], 
 "metadata": {
  "kernelspec": {
   "display_name": "Sage 6.6", 
   "name": "sage_6_6", 
   "language": "python"
  }
 }, 
 "nbformat_minor": 0
}